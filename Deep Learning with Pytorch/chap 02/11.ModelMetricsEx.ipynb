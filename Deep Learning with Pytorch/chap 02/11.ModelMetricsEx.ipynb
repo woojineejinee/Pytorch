{
 "cells": [
  {
   "cell_type": "code",
   "execution_count": null,
   "metadata": {},
   "outputs": [],
   "source": [
    "# 2.2.6 모델 평가\n",
    "\n",
    "# 주어진 테스트 데이터셋을 사용하여 모델을 평가한다.\n",
    "# 모델에 대한 평가는 함수와 모듈을 이용하는 두 가지 방법이 있다."
   ]
  },
  {
   "cell_type": "code",
   "execution_count": 1,
   "metadata": {},
   "outputs": [
    {
     "name": "stderr",
     "output_type": "stream",
     "text": [
      "c:\\Users\\choiw\\.conda\\envs\\pytorch\\lib\\site-packages\\torchvision\\io\\image.py:13: UserWarning: Failed to load image Python extension: \n",
      "  warn(f\"Failed to load image Python extension: {e}\")\n"
     ]
    }
   ],
   "source": [
    "import torch\n",
    "import torchmetrics"
   ]
  },
  {
   "cell_type": "code",
   "execution_count": 3,
   "metadata": {},
   "outputs": [
    {
     "name": "stdout",
     "output_type": "stream",
     "text": [
      "tensor(0.3000)\n"
     ]
    }
   ],
   "source": [
    "# 함수를 이용하여 모델을 평가\n",
    "preds = torch.randn(10, 5).softmax(dim=1)\n",
    "target = torch.randint(5, (10,))\n",
    "\n",
    "acc = torchmetrics.functional.accuracy(preds, target) # 모델을 평가하기 위해 torchmetrics.functional.accuracy 이용\n",
    "print(acc)"
   ]
  },
  {
   "cell_type": "code",
   "execution_count": 15,
   "metadata": {},
   "outputs": [
    {
     "name": "stdout",
     "output_type": "stream",
     "text": [
      "Accuracy on all batch 0 : 0.10000000149011612\n",
      "Accuracy on all batch 1 : 0.20000000298023224\n",
      "Accuracy on all batch 2 : 0.4000000059604645\n",
      "Accuracy on all batch 3 : 0.30000001192092896\n",
      "Accuracy on all batch 4 : 0.0\n",
      "Accuracy on all batch 5 : 0.0\n",
      "Accuracy on all batch 6 : 0.10000000149011612\n",
      "Accuracy on all batch 7 : 0.20000000298023224\n",
      "Accuracy on all batch 8 : 0.10000000149011612\n",
      "Accuracy on all batch 9 : 0.30000001192092896\n",
      "Accuracy on all data : 0.17000000178813934\n"
     ]
    }
   ],
   "source": [
    "# 모듈을 이용하여 모델을 평가\n",
    "\n",
    "metrics = torchmetrics.Accuracy() # 모델 평가(정확도) 초기화\n",
    "\n",
    "n_batches = 10\n",
    "\n",
    "for i in range(n_batches):\n",
    "    preds = torch.randn(10, 5).softmax(dim=1)\n",
    "    target = torch.randint(5, (10,))\n",
    "    \n",
    "    acc = metrics(preds, target)\n",
    "    print(f\"Accuracy on all batch {i} : {acc}\")\n",
    "\n",
    "acc = metrics.compute()\n",
    "print(f\"Accuracy on all data : {acc}\")"
   ]
  }
 ],
 "metadata": {
  "kernelspec": {
   "display_name": "Python 3.7.13 ('pytorch')",
   "language": "python",
   "name": "python3"
  },
  "language_info": {
   "codemirror_mode": {
    "name": "ipython",
    "version": 3
   },
   "file_extension": ".py",
   "mimetype": "text/x-python",
   "name": "python",
   "nbconvert_exporter": "python",
   "pygments_lexer": "ipython3",
   "version": "3.7.13"
  },
  "orig_nbformat": 4,
  "vscode": {
   "interpreter": {
    "hash": "af11ccc323831c87a8534a1ec73f2a239ff9f33c1dde9ab31b1585326fc75cb7"
   }
  }
 },
 "nbformat": 4,
 "nbformat_minor": 2
}
