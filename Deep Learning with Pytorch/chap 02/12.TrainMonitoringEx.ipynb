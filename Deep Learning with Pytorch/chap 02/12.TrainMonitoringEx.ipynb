{
 "cells": [
  {
   "cell_type": "code",
   "execution_count": null,
   "metadata": {},
   "outputs": [],
   "source": [
    "# 2.2.7 훈련 과정 모니터링\n",
    "\n",
    "# 파이토치로 머신 러닝/딥러닝 모델을 만들어 학습해 보면 학습이 진행되는\n",
    "# 과정에서 각 파라미터에 어떤 값들이 어떻게 변화하는지 모니터링하기 어렵다. \n",
    "# 이때 텐서보드를 이용하면 학습에 사용되는 각종 파라미터 값이 어떻게 변화하는지\n",
    "# 손쉽게 시각화하여 살펴볼 수 있으면 성능을 추적하거나 평가하는 용도로 사용할 수 있다.\n",
    "\n",
    "# 아래는 텐서보드의 예시 코드다\n",
    "\n",
    "# 다음 명령을 입력하면 텐서보드를 실행할 수 있다.\n",
    "# tensorboard --logdir=\"../chap 02/tensorboard\" --port=6006\n",
    "# 명령어를 실행하고 웹 브라우저에서 http://localhost:6006 입력하면 모니터링이 가능하다."
   ]
  },
  {
   "cell_type": "code",
   "execution_count": 1,
   "metadata": {},
   "outputs": [],
   "source": [
    "import torch\n",
    "from torch.utils.tensorboard import SummaryWriter\n",
    "writer = SummaryWriter(\"../chap 02/tensorboard\") # 모니터링에 필요한 값들이 저장될 위치"
   ]
  },
  {
   "cell_type": "code",
   "execution_count": null,
   "metadata": {},
   "outputs": [],
   "source": [
    "for epoch in range(num_epoch):\n",
    "    model.train() # 학습 모드로 전환(dropout=True)\n",
    "    batch_loss = 0.0\n",
    "    \n",
    "    for i, (x, y) in enumerate(dataloader):\n",
    "        x, y = x.to(device).float(), y.to(device).float()\n",
    "        outputs = model(x)\n",
    "        loss = criterion(outputs, y)\n",
    "        writer.add_scalar(\"Loss\", loss, epoch) # 스칼라 값(오차)을 기록\n",
    "        optimizer.zero_grad()\n",
    "        loss.backward()\n",
    "        optimizer.step()\n",
    "        \n",
    "writer.close() # SummaryWriter가 더 이상 필요하지 않으면 close() 메서드 호출"
   ]
  }
 ],
 "metadata": {
  "kernelspec": {
   "display_name": "Python 3.7.13 ('pytorch')",
   "language": "python",
   "name": "python3"
  },
  "language_info": {
   "codemirror_mode": {
    "name": "ipython",
    "version": 3
   },
   "file_extension": ".py",
   "mimetype": "text/x-python",
   "name": "python",
   "nbconvert_exporter": "python",
   "pygments_lexer": "ipython3",
   "version": "3.7.13"
  },
  "orig_nbformat": 4,
  "vscode": {
   "interpreter": {
    "hash": "af11ccc323831c87a8534a1ec73f2a239ff9f33c1dde9ab31b1585326fc75cb7"
   }
  }
 },
 "nbformat": 4,
 "nbformat_minor": 2
}
