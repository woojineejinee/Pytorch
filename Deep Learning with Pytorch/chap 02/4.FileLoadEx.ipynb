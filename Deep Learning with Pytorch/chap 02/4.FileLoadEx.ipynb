{
 "cells": [
  {
   "cell_type": "code",
   "execution_count": null,
   "metadata": {},
   "outputs": [],
   "source": [
    "# 단순하게 파일을 불러와서 사용\n",
    "\n",
    "\n",
    "# 판다스 라이브러리를 이용하여 JSON, PDF, CSV 등의 파일을 불러오는 방법이다.\n",
    "# 데이터가 복잡하지 않은 형태라면 단순하고 유용하게 사용될 수 있다.\n",
    "\n",
    "# 아래 코드는 그냥 눈으로 보는 코드다."
   ]
  },
  {
   "cell_type": "code",
   "execution_count": 1,
   "metadata": {},
   "outputs": [],
   "source": [
    "import pandas as pd # pandas 라이브러리 호출\n",
    "import torch # torch 라이브러리 호출"
   ]
  },
  {
   "cell_type": "code",
   "execution_count": null,
   "metadata": {},
   "outputs": [],
   "source": [
    "data = pd.read_csv('../class2.csv') # csv 파일을 불러온다.\n",
    "\n",
    "x = torch.from_numpy(data['x'].values).unsqueeze(dim=1).float() # CSV 파일의 x 칼럽의 값을 넘파이 배열로 받아 Tensor(dtype)으로 바꾸어 준다.\n",
    "y = torch.from_numpy(data['y'].values).unsqueeze(dim=1).float() # CSV 파일의 y 칼럽의 값을 넘파이 배열로 받아 Tensor(dtype)으로 바구어 준다."
   ]
  }
 ],
 "metadata": {
  "kernelspec": {
   "display_name": "Python 3.7.13 ('pytorch')",
   "language": "python",
   "name": "python3"
  },
  "language_info": {
   "codemirror_mode": {
    "name": "ipython",
    "version": 3
   },
   "file_extension": ".py",
   "mimetype": "text/x-python",
   "name": "python",
   "nbconvert_exporter": "python",
   "pygments_lexer": "ipython3",
   "version": "3.7.13"
  },
  "orig_nbformat": 4,
  "vscode": {
   "interpreter": {
    "hash": "af11ccc323831c87a8534a1ec73f2a239ff9f33c1dde9ab31b1585326fc75cb7"
   }
  }
 },
 "nbformat": 4,
 "nbformat_minor": 2
}
