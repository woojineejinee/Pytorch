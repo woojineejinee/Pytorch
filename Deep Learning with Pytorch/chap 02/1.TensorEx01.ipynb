{
 "cells": [
  {
   "cell_type": "code",
   "execution_count": 1,
   "id": "4356185d",
   "metadata": {},
   "outputs": [],
   "source": [
    "# 텐서 생성 및 변환\n",
    "import torch"
   ]
  },
  {
   "cell_type": "code",
   "execution_count": 2,
   "id": "a3913aa9",
   "metadata": {},
   "outputs": [
    {
     "name": "stdout",
     "output_type": "stream",
     "text": [
      "tensor([[1, 2],\n",
      "        [3, 4]])\n",
      "tensor([[1, 2],\n",
      "        [3, 4]], device='cuda:0')\n",
      "tensor([[1., 2.],\n",
      "        [3., 4.]], dtype=torch.float64)\n"
     ]
    }
   ],
   "source": [
    "print(torch.tensor([[1,2],[3,4]])) # 2차원 형태의 텐서 생성\n",
    "print(torch.tensor([[1,2],[3,4]], device=\"cuda:0\")) # GPU에 텐서 생성\n",
    "print(torch.tensor([[1,2],[3,4]], dtype=torch.float64)) # dtype을 이용하여 텐서 생성"
   ]
  },
  {
   "cell_type": "code",
   "execution_count": 7,
   "id": "9df358fc",
   "metadata": {},
   "outputs": [
    {
     "name": "stdout",
     "output_type": "stream",
     "text": [
      "[[1 2]\n",
      " [3 4]]\n",
      "[[1 2]\n",
      " [3 4]]\n"
     ]
    }
   ],
   "source": [
    "temp = torch.tensor([[1,2],[3,4]])\n",
    "print(temp.numpy()) # 텐서를 ndarray로 변환\n",
    "\n",
    "temp = torch.tensor([[1,2],[3,4]], device=\"cuda:0\")\n",
    "print(temp.to(\"cpu\").numpy()) # GPU상의 텐서를 CPU의 텐서로 변환한 후 ndarray로 변환"
   ]
  }
 ],
 "metadata": {
  "kernelspec": {
   "display_name": "Python 3.7.13 ('pytorch')",
   "language": "python",
   "name": "python3"
  },
  "language_info": {
   "codemirror_mode": {
    "name": "ipython",
    "version": 3
   },
   "file_extension": ".py",
   "mimetype": "text/x-python",
   "name": "python",
   "nbconvert_exporter": "python",
   "pygments_lexer": "ipython3",
   "version": "3.7.13"
  },
  "vscode": {
   "interpreter": {
    "hash": "af11ccc323831c87a8534a1ec73f2a239ff9f33c1dde9ab31b1585326fc75cb7"
   }
  }
 },
 "nbformat": 4,
 "nbformat_minor": 5
}
