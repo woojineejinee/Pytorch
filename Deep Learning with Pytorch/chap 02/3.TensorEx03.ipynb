{
 "cells": [
  {
   "cell_type": "code",
   "execution_count": 1,
   "metadata": {},
   "outputs": [],
   "source": [
    "# 텐서 연산 및 차원 조작\n",
    "import torch"
   ]
  },
  {
   "cell_type": "code",
   "execution_count": 2,
   "metadata": {},
   "outputs": [
    {
     "name": "stdout",
     "output_type": "stream",
     "text": [
      "tensor([2, 2, 3])\n"
     ]
    }
   ],
   "source": [
    "# 길이가 3인 벡터 두 개 생성\n",
    "v = torch.tensor([1, 2, 3]) \n",
    "w = torch.tensor([3, 4, 6])\n",
    "print(w - v) # 길이가 같은 벡터 간 뺄셈 연산"
   ]
  },
  {
   "cell_type": "code",
   "execution_count": 3,
   "metadata": {},
   "outputs": [
    {
     "name": "stdout",
     "output_type": "stream",
     "text": [
      "torch.Size([2, 2])\n",
      "-----------------------\n",
      "tensor([[1],\n",
      "        [2],\n",
      "        [3],\n",
      "        [4]])\n",
      "-----------------------\n",
      "tensor([1, 2, 3, 4])\n",
      "-----------------------\n",
      "tensor([[1, 2, 3, 4]])\n",
      "-----------------------\n",
      "tensor([[1],\n",
      "        [2],\n",
      "        [3],\n",
      "        [4]])\n"
     ]
    }
   ],
   "source": [
    "temp = torch.tensor([[1, 2], [3, 4]]) # 2 x 2 행렬 생성\n",
    "\n",
    "print(temp.shape)\n",
    "print(\"-----------------------\")\n",
    "print(temp.view(4, 1)) # 2 x 2 행렬을 4 x 1로 변형\n",
    "print(\"-----------------------\")\n",
    "print(temp.view(-1)) # 2 x 2 행렬을 1차원 벡터로 변형\n",
    "print(\"-----------------------\")\n",
    "# -1은 (1, ?)와 같은 의미로 다른 차원으로부터 해당 값을 유추하겠다는 것입니다.\n",
    "# temp의 원소 개수(2x2=4)를 유지한 채 (1, ?)를 만족해야 하므로 (1, 4)가 된다.\n",
    "print(temp.view(1, -1))\n",
    "print(\"-----------------------\")\n",
    "print(temp.view(-1, 1)) # 앞에서 마찬가지로 temp의 원소 개수를 만족하며 (?, 1) 형태를 유지해야 하므로 (4, 1)이 된다."
   ]
  }
 ],
 "metadata": {
  "kernelspec": {
   "display_name": "Python 3.7.13 ('pytorch')",
   "language": "python",
   "name": "python3"
  },
  "language_info": {
   "codemirror_mode": {
    "name": "ipython",
    "version": 3
   },
   "file_extension": ".py",
   "mimetype": "text/x-python",
   "name": "python",
   "nbconvert_exporter": "python",
   "pygments_lexer": "ipython3",
   "version": "3.7.13"
  },
  "orig_nbformat": 4,
  "vscode": {
   "interpreter": {
    "hash": "af11ccc323831c87a8534a1ec73f2a239ff9f33c1dde9ab31b1585326fc75cb7"
   }
  }
 },
 "nbformat": 4,
 "nbformat_minor": 2
}
